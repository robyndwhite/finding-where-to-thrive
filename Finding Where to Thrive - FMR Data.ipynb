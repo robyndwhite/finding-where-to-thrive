{
  "cells": [
    {
      "cell_type": "markdown",
      "id": "7ed37f88-122b-4232-a1cd-84815a8e0877",
      "metadata": {
        "id": "7ed37f88-122b-4232-a1cd-84815a8e0877"
      },
      "source": [
        "# Finding Where to Thrive - Part I\n",
        "## Exploring Fair Market Rent Data"
      ]
    },
    {
      "cell_type": "markdown",
      "id": "542ea551-2bb0-4778-a38e-39ec311f4eac",
      "metadata": {
        "id": "542ea551-2bb0-4778-a38e-39ec311f4eac"
      },
      "source": [
        "In this notebook, we'll load the five years of Fair Market Rent data that we collected from the US Department of Housing and Urban Development (https://www.huduser.gov/portal/datasets/fmr.html), create and view data profile reports, view the descriptive statistics, clean and prep the data for processing, and complete exploratory data analysis.\n",
        "\n",
        "We'll look to answer the following questions:\n",
        "\n",
        "1. Which states have the highest FMRs?\n",
        "2. Which metro areas have the highest FMRs?\n",
        "3. What is the percentage increase in FMRs from 2017 to 2021?"
      ]
    },
    {
      "cell_type": "markdown",
      "id": "d810d9be-2636-4e60-a77b-be58a4ee343b",
      "metadata": {
        "id": "d810d9be-2636-4e60-a77b-be58a4ee343b"
      },
      "source": [
        "First, we'll start with importing the libraries and tools that we'll need."
      ]
    },
    {
      "cell_type": "code",
      "source": [
        "import pandas as pd\n",
        "import numpy as np\n",
        "import plotly.express as px\n",
        "import plotly.graph_objects as go\n",
        "from dataprep.eda import plot, create_report\n",
        "\n",
        "import warnings\n",
        "warnings.simplefilter(action='ignore', category=FutureWarning)\n",
        "\n",
        "pd.set_option(\"display.max.columns\", None) # change max # of columns shown in output\n",
        "pd.set_option('display.max_rows', 500) # change max # of rows shown in output\n",
        "pd.set_option(\"display.precision\", 2) # change jupyter settings to only show two decimal places"
      ],
      "metadata": {
        "id": "Y30b30QJCfqK"
      },
      "id": "Y30b30QJCfqK",
      "execution_count": null,
      "outputs": []
    },
    {
      "cell_type": "markdown",
      "id": "14df210b-7771-43dd-b806-1a740ec83b2d",
      "metadata": {
        "tags": [],
        "id": "14df210b-7771-43dd-b806-1a740ec83b2d"
      },
      "source": [
        "### Dataset Profiling\n",
        "\n",
        "We will use the DataPrep library in Python create and view a data profile report for each data set to perform structure and content discovery, as well as view basic descriptive statistics. We will use the describe() method to view additional descriptive statistics."
      ]
    },
    {
      "cell_type": "markdown",
      "id": "eb04cd93-a6a1-4747-9a28-fa6c449b88ef",
      "metadata": {
        "tags": [],
        "id": "eb04cd93-a6a1-4747-9a28-fa6c449b88ef"
      },
      "source": [
        "#### 2017 FMR Data Profile"
      ]
    },
    {
      "cell_type": "code",
      "execution_count": null,
      "id": "e1baa96a-8acc-4012-b3f4-e6220abc64fa",
      "metadata": {
        "id": "e1baa96a-8acc-4012-b3f4-e6220abc64fa"
      },
      "outputs": [],
      "source": [
        "# create 2017 FMR DataFrame\n",
        "\n",
        "FY17_FMR = pd.read_excel(\"FMR Data/FY17_FMRs.xlsx\") "
      ]
    },
    {
      "cell_type": "code",
      "execution_count": null,
      "id": "263a9604-f8ac-40db-bde7-36b13fa2d426",
      "metadata": {
        "id": "263a9604-f8ac-40db-bde7-36b13fa2d426"
      },
      "outputs": [],
      "source": [
        "FY17_FMR.head()"
      ]
    },
    {
      "cell_type": "code",
      "execution_count": null,
      "id": "82794e32-1b11-4a9c-8468-3001eef8f382",
      "metadata": {
        "id": "82794e32-1b11-4a9c-8468-3001eef8f382"
      },
      "outputs": [],
      "source": [
        "# create data profile report using the DataPrep Library and view in browser\n",
        "\n",
        "FY17_FMRreport = create_report(FY17_FMR, title='2017 FMR Data Profile Report')\n",
        "FY17_FMRreport"
      ]
    },
    {
      "cell_type": "markdown",
      "id": "692bc5ff-a79a-4467-81de-8ca3001db48c",
      "metadata": {
        "tags": [],
        "id": "692bc5ff-a79a-4467-81de-8ca3001db48c"
      },
      "source": [
        "A review of the 2017 profile report shows that there are 18 columns, 11 numeric and 7 categorical. There are 4,769 observations, and 6 missing values, less than 0.1% of total number of cells. No duplicate rows are present.\n",
        "\n",
        "Columns of interest are: \n",
        "> **state_alpha**: state abbreviation\n",
        "\n",
        "> **countyname**: county for the given state\n",
        "\n",
        "> **areaname**: metro area name for the given state(s)\n",
        "\n",
        "> **fmr0**: Fair Market rental price for a studio residence in the given metro area\n",
        "\n",
        "> **fmr1**: Fair Market rental price for a 1-bedroom residence in the given metro area\n",
        "\n",
        "> **fmr2**: Fair Market rental price for a 2-bedroom residence in the given metro area\n",
        "\n",
        "> **fmr3**: Fair Market rental price for a 3-bedroom residence in the given metro area\n",
        "\n",
        "> **fmr4**: Fair Market rental price for a residence with 4 or more bedrooms in the given metro area"
      ]
    },
    {
      "cell_type": "code",
      "execution_count": null,
      "id": "493326ca-2a99-48dd-a0b8-9806ecc6bddf",
      "metadata": {
        "id": "493326ca-2a99-48dd-a0b8-9806ecc6bddf"
      },
      "outputs": [],
      "source": [
        "# view descriptive statistics for studio residences\n",
        "\n",
        "FY17_FMR['fmr0'].describe()"
      ]
    },
    {
      "cell_type": "code",
      "execution_count": null,
      "id": "04e2443d-ad2b-4ba5-965d-3ef72fcccba2",
      "metadata": {
        "id": "04e2443d-ad2b-4ba5-965d-3ef72fcccba2"
      },
      "outputs": [],
      "source": [
        "# view desriptive statistics for 1 bedroom residences\n",
        "\n",
        "FY17_FMR['fmr1'].describe()"
      ]
    },
    {
      "cell_type": "code",
      "execution_count": null,
      "id": "7e00b010-00e2-467a-9af2-2396366b0368",
      "metadata": {
        "id": "7e00b010-00e2-467a-9af2-2396366b0368"
      },
      "outputs": [],
      "source": [
        "# view desriptive statistics for 2 bedroom residences\n",
        "\n",
        "FY17_FMR['fmr2'].describe()"
      ]
    },
    {
      "cell_type": "code",
      "execution_count": null,
      "id": "4577c406-92fc-4354-91d0-02333a615f9b",
      "metadata": {
        "id": "4577c406-92fc-4354-91d0-02333a615f9b"
      },
      "outputs": [],
      "source": [
        "# view desriptive statistics for 3 bedroom residences\n",
        "\n",
        "FY17_FMR['fmr3'].describe()"
      ]
    },
    {
      "cell_type": "code",
      "execution_count": null,
      "id": "9b83ec6c-c8d6-4ee2-aa38-bd6e40f998e4",
      "metadata": {
        "id": "9b83ec6c-c8d6-4ee2-aa38-bd6e40f998e4"
      },
      "outputs": [],
      "source": [
        "# view desriptive statistics for 4/4+ bedroom residences\n",
        "\n",
        "FY17_FMR['fmr4'].describe()"
      ]
    },
    {
      "cell_type": "markdown",
      "id": "b07924ec-f7db-4540-9d72-da97171c87ee",
      "metadata": {
        "tags": [],
        "id": "b07924ec-f7db-4540-9d72-da97171c87ee"
      },
      "source": [
        "#### 2018 FMR Data Profile"
      ]
    },
    {
      "cell_type": "code",
      "execution_count": null,
      "id": "f407be9b-b04f-4896-9e97-643c1b5eac64",
      "metadata": {
        "id": "f407be9b-b04f-4896-9e97-643c1b5eac64"
      },
      "outputs": [],
      "source": [
        "# create 2018 FMR DataFrame\n",
        "\n",
        "FY18_FMR = pd.read_excel(\"FMR Data/FY18_FMRs.xlsx\") "
      ]
    },
    {
      "cell_type": "code",
      "execution_count": null,
      "id": "1143d0a2-9ca7-421e-ac0a-92d8b9ec40f5",
      "metadata": {
        "id": "1143d0a2-9ca7-421e-ac0a-92d8b9ec40f5"
      },
      "outputs": [],
      "source": [
        "FY18_FMR.head()"
      ]
    },
    {
      "cell_type": "code",
      "execution_count": null,
      "id": "2d83bfe3-2917-408f-8b0d-1de96cd7ac58",
      "metadata": {
        "id": "2d83bfe3-2917-408f-8b0d-1de96cd7ac58"
      },
      "outputs": [],
      "source": [
        "# create data profile report and view in browser\n",
        "\n",
        "FY18_FMRreport = create_report(FY18_FMR, title='2018 FMR Data Profile Report')\n",
        "FY18_FMRreport"
      ]
    },
    {
      "cell_type": "markdown",
      "id": "fd54e670-b213-4a56-8566-e9bf9d63d6b8",
      "metadata": {
        "id": "fd54e670-b213-4a56-8566-e9bf9d63d6b8"
      },
      "source": [
        "A review of the 2018 profile report shows that there are 20 columns, 13 numeric and 7 categorical. There are 4,769 observations, and 2 missing values, less than 0.1% of total number of cells. No duplicate rows are present.\n",
        "\n",
        "The columns of interest remain the same as the 2017 data set above. \n",
        "\n",
        "(*Note: the column names for FMR values now include an underscore ie, fmr0 is now fmr_0*)"
      ]
    },
    {
      "cell_type": "code",
      "execution_count": null,
      "id": "c8f15bbd-5aec-45c2-8914-21339bb6f04e",
      "metadata": {
        "id": "c8f15bbd-5aec-45c2-8914-21339bb6f04e"
      },
      "outputs": [],
      "source": [
        "# view descriptive statistics for studio residences\n",
        "\n",
        "FY18_FMR['fmr_0'].describe()"
      ]
    },
    {
      "cell_type": "code",
      "execution_count": null,
      "id": "f5099c18-e783-4b00-ad70-f303ae3bcbf7",
      "metadata": {
        "id": "f5099c18-e783-4b00-ad70-f303ae3bcbf7"
      },
      "outputs": [],
      "source": [
        "# view desriptive statistics for 1 bedroom residences\n",
        "\n",
        "FY18_FMR['fmr_1'].describe()"
      ]
    },
    {
      "cell_type": "code",
      "execution_count": null,
      "id": "fd3cc2ee-a749-42fb-b4e0-7eeb574705db",
      "metadata": {
        "id": "fd3cc2ee-a749-42fb-b4e0-7eeb574705db"
      },
      "outputs": [],
      "source": [
        "# view desriptive statistics for 2 bedroom residences\n",
        "\n",
        "FY18_FMR['fmr_2'].describe()"
      ]
    },
    {
      "cell_type": "code",
      "execution_count": null,
      "id": "5674dcf6-1f53-4a60-9c08-155dbc5363cb",
      "metadata": {
        "id": "5674dcf6-1f53-4a60-9c08-155dbc5363cb"
      },
      "outputs": [],
      "source": [
        "# view desriptive statistics for 3 bedroom residences\n",
        "\n",
        "FY18_FMR['fmr_3'].describe()"
      ]
    },
    {
      "cell_type": "code",
      "execution_count": null,
      "id": "722ec4d3-5eb1-476b-b540-80efa0968fcd",
      "metadata": {
        "id": "722ec4d3-5eb1-476b-b540-80efa0968fcd"
      },
      "outputs": [],
      "source": [
        "# view desriptive statistics for 4/4+ bedroom residences\n",
        "\n",
        "FY18_FMR['fmr_4'].describe()"
      ]
    },
    {
      "cell_type": "markdown",
      "id": "41c50269-8fed-4711-af41-60174129f51a",
      "metadata": {
        "tags": [],
        "id": "41c50269-8fed-4711-af41-60174129f51a"
      },
      "source": [
        "#### 2019 FMR Data Profile"
      ]
    },
    {
      "cell_type": "code",
      "execution_count": null,
      "id": "3ae40c18-1db5-4bc1-9d6b-a5fc564ee7c5",
      "metadata": {
        "id": "3ae40c18-1db5-4bc1-9d6b-a5fc564ee7c5"
      },
      "outputs": [],
      "source": [
        "# create 2019 FMR DataFrame\n",
        "\n",
        "FY19_FMR = pd.read_excel(\"FMR Data/FY19_FMRs.xlsx\") #create 2019 FMR DataFrame"
      ]
    },
    {
      "cell_type": "code",
      "execution_count": null,
      "id": "1879c79a-6afb-4419-b828-77998953f7fb",
      "metadata": {
        "id": "1879c79a-6afb-4419-b828-77998953f7fb"
      },
      "outputs": [],
      "source": [
        "FY19_FMR.head()"
      ]
    },
    {
      "cell_type": "code",
      "execution_count": null,
      "id": "5c060c88-c789-46ed-8797-bf96177b5799",
      "metadata": {
        "id": "5c060c88-c789-46ed-8797-bf96177b5799"
      },
      "outputs": [],
      "source": [
        "# create data profile report and view in browser\n",
        "\n",
        "FY19_FMRreport = create_report(FY19_FMR, title='2019 FMR Data Profile Report')\n",
        "FY19_FMRreport"
      ]
    },
    {
      "cell_type": "markdown",
      "id": "5ae6d90e-b955-4b0f-aa03-6b2474eece8d",
      "metadata": {
        "id": "5ae6d90e-b955-4b0f-aa03-6b2474eece8d"
      },
      "source": [
        "A review of the 2019 profile report shows that there are 20 columns, 13 numeric and 7 categorical. There are 4,767 observations, and no missing values. No duplicate rows are present.\n",
        "\n",
        "The columns of interest remain the same as the 2017 and 2018 data sets above."
      ]
    },
    {
      "cell_type": "code",
      "execution_count": null,
      "id": "e15b9422-6388-4089-b316-ee6ca8fe78e5",
      "metadata": {
        "id": "e15b9422-6388-4089-b316-ee6ca8fe78e5"
      },
      "outputs": [],
      "source": [
        "# view descriptive statistics for studio residences\n",
        "\n",
        "FY19_FMR['fmr_0'].describe()"
      ]
    },
    {
      "cell_type": "code",
      "execution_count": null,
      "id": "447e9947-c6d6-4aa4-ac51-21cf8ad6ca65",
      "metadata": {
        "id": "447e9947-c6d6-4aa4-ac51-21cf8ad6ca65"
      },
      "outputs": [],
      "source": [
        "# view desriptive statistics for 1 bedroom residences\n",
        "\n",
        "FY19_FMR['fmr_1'].describe()"
      ]
    },
    {
      "cell_type": "code",
      "execution_count": null,
      "id": "386b3f8b-393b-481f-aa8e-97cdc9b22401",
      "metadata": {
        "id": "386b3f8b-393b-481f-aa8e-97cdc9b22401"
      },
      "outputs": [],
      "source": [
        "# view desriptive statistics for 2 bedroom residences\n",
        "\n",
        "FY19_FMR['fmr_2'].describe()"
      ]
    },
    {
      "cell_type": "code",
      "execution_count": null,
      "id": "3b1e98ce-ed24-4f08-a4f9-30fbbf4f25fa",
      "metadata": {
        "id": "3b1e98ce-ed24-4f08-a4f9-30fbbf4f25fa"
      },
      "outputs": [],
      "source": [
        "# view desriptive statistics for 3 bedroom residences\n",
        "\n",
        "FY19_FMR['fmr_3'].describe()"
      ]
    },
    {
      "cell_type": "code",
      "execution_count": null,
      "id": "ce86f730-7650-4abb-a4a5-d5d9b3a01862",
      "metadata": {
        "id": "ce86f730-7650-4abb-a4a5-d5d9b3a01862"
      },
      "outputs": [],
      "source": [
        "# view desriptive statistics for 4/4+ bedroom residences\n",
        "\n",
        "FY19_FMR['fmr_4'].describe()"
      ]
    },
    {
      "cell_type": "markdown",
      "id": "81377bd7-2ee6-43fb-837e-c8060cfe3cd7",
      "metadata": {
        "tags": [],
        "id": "81377bd7-2ee6-43fb-837e-c8060cfe3cd7"
      },
      "source": [
        "#### 2020 FMR Data Profile"
      ]
    },
    {
      "cell_type": "code",
      "execution_count": null,
      "id": "ec13db9d-32c6-4846-8b0f-40505a35b16e",
      "metadata": {
        "id": "ec13db9d-32c6-4846-8b0f-40505a35b16e"
      },
      "outputs": [],
      "source": [
        "# create 2020 FMR DataFrame\n",
        "\n",
        "FY20_FMR = pd.read_excel(\"FMR Data/FY20_FMRs.xlsx\") "
      ]
    },
    {
      "cell_type": "code",
      "execution_count": null,
      "id": "ea21c3e4-a064-4361-91d1-b9d19adaa9af",
      "metadata": {
        "id": "ea21c3e4-a064-4361-91d1-b9d19adaa9af"
      },
      "outputs": [],
      "source": [
        "FY20_FMR.head()"
      ]
    },
    {
      "cell_type": "code",
      "execution_count": null,
      "id": "55094618-1782-4a31-a2a8-fc5c5a20cbda",
      "metadata": {
        "id": "55094618-1782-4a31-a2a8-fc5c5a20cbda"
      },
      "outputs": [],
      "source": [
        "# create profile report and view in browser\n",
        "\n",
        "FY20_FMRreport = create_report(FY20_FMR, title='2020 FMR Data Profile Report')\n",
        "FY20_FMRreport"
      ]
    },
    {
      "cell_type": "markdown",
      "id": "034c4afd-1dfa-434f-8cf6-77d99b502764",
      "metadata": {
        "id": "034c4afd-1dfa-434f-8cf6-77d99b502764"
      },
      "source": [
        "A review of the 2020 profile report shows that there are 20 columns, 13 numeric and 7 categorical. There are 4,766 observations, and no missing values. No duplicate rows are present.\n",
        "\n",
        "The columns of interest remain the same as the 2017 - 2019 data sets above."
      ]
    },
    {
      "cell_type": "code",
      "execution_count": null,
      "id": "658c88b7-5dfb-41aa-8692-3bff1a7e68a2",
      "metadata": {
        "id": "658c88b7-5dfb-41aa-8692-3bff1a7e68a2"
      },
      "outputs": [],
      "source": [
        "# view descriptive statistics for studio residences\n",
        "\n",
        "FY20_FMR['fmr_0'].describe()"
      ]
    },
    {
      "cell_type": "code",
      "execution_count": null,
      "id": "8874b25d-7d2a-4fe2-be67-13fe9dc08aa8",
      "metadata": {
        "id": "8874b25d-7d2a-4fe2-be67-13fe9dc08aa8"
      },
      "outputs": [],
      "source": [
        "# view desriptive statistics for 1 bedroom residences\n",
        "\n",
        "FY20_FMR['fmr_1'].describe()"
      ]
    },
    {
      "cell_type": "code",
      "execution_count": null,
      "id": "fbb8b0d6-5bc1-4576-8682-049174cef2ba",
      "metadata": {
        "id": "fbb8b0d6-5bc1-4576-8682-049174cef2ba"
      },
      "outputs": [],
      "source": [
        "# view desriptive statistics for 2 bedroom residences\n",
        "\n",
        "FY20_FMR['fmr_2'].describe()"
      ]
    },
    {
      "cell_type": "code",
      "execution_count": null,
      "id": "2979f290-7fae-408e-95ba-db492d93d72a",
      "metadata": {
        "id": "2979f290-7fae-408e-95ba-db492d93d72a"
      },
      "outputs": [],
      "source": [
        "# view desriptive statistics for 3 bedroom residences\n",
        "\n",
        "FY20_FMR['fmr_3'].describe()"
      ]
    },
    {
      "cell_type": "code",
      "execution_count": null,
      "id": "d8c02257-a653-4b75-94c1-fc61c9627a8a",
      "metadata": {
        "id": "d8c02257-a653-4b75-94c1-fc61c9627a8a"
      },
      "outputs": [],
      "source": [
        "# view desriptive statistics for 4/4+ bedroom residences\n",
        "\n",
        "FY20_FMR['fmr_4'].describe()"
      ]
    },
    {
      "cell_type": "markdown",
      "id": "01105bd4-f0c8-41a4-9da3-7003650e9a15",
      "metadata": {
        "tags": [],
        "id": "01105bd4-f0c8-41a4-9da3-7003650e9a15"
      },
      "source": [
        "#### 2021 FMR Data Profile"
      ]
    },
    {
      "cell_type": "code",
      "execution_count": null,
      "id": "c0737088-55b8-42f0-9ee3-821cd541269f",
      "metadata": {
        "id": "c0737088-55b8-42f0-9ee3-821cd541269f"
      },
      "outputs": [],
      "source": [
        "#create 2021 FMR DataFrame\n",
        "\n",
        "FY21_FMR = pd.read_excel(\"FMR Data/FY21_FMRs.xlsx\") "
      ]
    },
    {
      "cell_type": "code",
      "execution_count": null,
      "id": "46a30ddf-3261-4816-8795-c7ef2848482b",
      "metadata": {
        "id": "46a30ddf-3261-4816-8795-c7ef2848482b"
      },
      "outputs": [],
      "source": [
        "FY21_FMR.head()"
      ]
    },
    {
      "cell_type": "code",
      "execution_count": null,
      "id": "ae92dc0a-1847-4a46-ba05-e99eb3278c79",
      "metadata": {
        "id": "ae92dc0a-1847-4a46-ba05-e99eb3278c79"
      },
      "outputs": [],
      "source": [
        "# create data profile report and view in browser\n",
        "\n",
        "FY21_FMRreport = create_report(FY21_FMR, title='2021 FMR Data Profile Report')\n",
        "FY21_FMRreport"
      ]
    },
    {
      "cell_type": "markdown",
      "id": "1702aa28-4718-40fe-be4a-29a7a17ba186",
      "metadata": {
        "id": "1702aa28-4718-40fe-be4a-29a7a17ba186"
      },
      "source": [
        "A review of the 2021 profile report shows that there are 16 columns, 10 numeric and 6 categorical. There are 4,766 observations, and no missing values. No duplicate rows are present.\n",
        "\n",
        "The columns of interest remain the same as the 2017 - 2020 data sets above."
      ]
    },
    {
      "cell_type": "code",
      "execution_count": null,
      "id": "06991cb3-d515-447f-9b4c-233d1106b3c2",
      "metadata": {
        "id": "06991cb3-d515-447f-9b4c-233d1106b3c2"
      },
      "outputs": [],
      "source": [
        "# view descriptive statistics for studio residences\n",
        "\n",
        "FY21_FMR['fmr_0'].describe()"
      ]
    },
    {
      "cell_type": "code",
      "execution_count": null,
      "id": "a26e4eb6-7fab-492e-8f4e-d78c9b421269",
      "metadata": {
        "id": "a26e4eb6-7fab-492e-8f4e-d78c9b421269"
      },
      "outputs": [],
      "source": [
        "# view desriptive statistics for 1 bedroom residences\n",
        "\n",
        "FY21_FMR['fmr_1'].describe()"
      ]
    },
    {
      "cell_type": "code",
      "execution_count": null,
      "id": "faf2b67e-3a12-4765-998b-a928d40db3f2",
      "metadata": {
        "id": "faf2b67e-3a12-4765-998b-a928d40db3f2"
      },
      "outputs": [],
      "source": [
        "# view desriptive statistics for 2 bedroom residences\n",
        "\n",
        "FY21_FMR['fmr_2'].describe()"
      ]
    },
    {
      "cell_type": "code",
      "execution_count": null,
      "id": "a0669c3d-787e-44a6-b4c3-35a892395adf",
      "metadata": {
        "id": "a0669c3d-787e-44a6-b4c3-35a892395adf"
      },
      "outputs": [],
      "source": [
        "# view desriptive statistics for 3 bedroom residences\n",
        "\n",
        "FY21_FMR['fmr_3'].describe()"
      ]
    },
    {
      "cell_type": "code",
      "execution_count": null,
      "id": "ca93e038-5fe5-4e01-95b9-0731bb4a2caa",
      "metadata": {
        "id": "ca93e038-5fe5-4e01-95b9-0731bb4a2caa"
      },
      "outputs": [],
      "source": [
        "# view desriptive statistics for 4/4+ bedroom residences\n",
        "\n",
        "FY21_FMR['fmr_4'].describe()"
      ]
    },
    {
      "cell_type": "markdown",
      "id": "c61f5121-8e49-465c-acc1-d74b90045a07",
      "metadata": {
        "tags": [],
        "id": "c61f5121-8e49-465c-acc1-d74b90045a07"
      },
      "source": [
        "### Data Wrangling"
      ]
    },
    {
      "cell_type": "markdown",
      "id": "30168fc5-8e26-44d0-b541-91fa438dbb6b",
      "metadata": {
        "tags": [],
        "id": "30168fc5-8e26-44d0-b541-91fa438dbb6b"
      },
      "source": [
        "#### Cleaning and Merging FMR Data 2017 - 2021"
      ]
    },
    {
      "cell_type": "markdown",
      "id": "9364f591-7e90-43a8-aa4d-019761a7fa70",
      "metadata": {
        "id": "9364f591-7e90-43a8-aa4d-019761a7fa70"
      },
      "source": [
        "Now that we taken a preliminary look at our data, and identified our columns of interest, we will clean the data sets and merge them into one dataframe. Our cleaning steps will be to:\n",
        "\n",
        "- add a year column to each data set\n",
        "- create a state-county identifier by concatenating the state_alpha and countyname columns (*we will use this later to merge w/other dataframes*)\n",
        "- update column names\n",
        "- drop unused columns\n",
        "- drop rows for US territories\n",
        "- clean areaname values by removing special characters and descriptors\n",
        "- removing duplicate rows caused by dropping the county_town_name column"
      ]
    },
    {
      "cell_type": "code",
      "execution_count": null,
      "id": "d358ceec-f083-47b4-8d57-c6d76315671a",
      "metadata": {
        "id": "d358ceec-f083-47b4-8d57-c6d76315671a"
      },
      "outputs": [],
      "source": [
        "#create dataframes for each year of data\n",
        "\n",
        "fmr_17 = pd.read_excel(\"FMR Data/FY17_FMRs.xlsx\") \n",
        "fmr_18 = pd.read_excel(\"FMR Data/FY18_FMRs.xlsx\") \n",
        "fmr_19 = pd.read_excel(\"FMR Data/FY19_FMRs.xlsx\") \n",
        "fmr_20 = pd.read_excel(\"FMR Data/FY20_FMRs.xlsx\") \n",
        "fmr_21 = pd.read_excel(\"FMR Data/FY21_FMRs.xlsx\") \n",
        "\n",
        "#add year columns\n",
        "fmr_17['year'] = '2017'\n",
        "fmr_18['year'] = '2018'\n",
        "fmr_19['year'] = '2019'\n",
        "fmr_20['year'] = '2020'\n",
        "fmr_21['year'] = '2021'"
      ]
    },
    {
      "cell_type": "code",
      "execution_count": null,
      "id": "c7070431-eb7e-4f99-9857-51421e0dc233",
      "metadata": {
        "id": "c7070431-eb7e-4f99-9857-51421e0dc233"
      },
      "outputs": [],
      "source": [
        "#create function to clean each fmr dataframes\n",
        "\n",
        "def process_fmr(df):\n",
        "    \n",
        "    #filter to only show metropolitan areas\n",
        "    df = df[df['metro'] == 1].copy()    \n",
        "    \n",
        "    #change year column to datetime dtype\n",
        "    df['year'] = pd.to_datetime(df['year']).dt.strftime('%Y') \n",
        "    \n",
        "    #create state-county key\n",
        "    df['st_county'] = df[['state_alpha','countyname']].apply('-'.join, axis=1) \n",
        "    \n",
        "    #update 2017 column names for consistency across years\n",
        "    df.rename(columns={'fmr0':'fmr_0', 'fmr1':'fmr_1', 'fmr2':'fmr_2', 'fmr3':'fmr_3', 'fmr4':'fmr_4'},inplace=True) \n",
        "    \n",
        "    #rename fmr column names for clarification\n",
        "    df.rename(columns={'fmr_0':'studio', 'fmr_1':'one_bed', 'fmr_2':'two_bed', 'fmr_3':'three_bed', 'fmr_4':'four_bed', 'countyname':'county_name', 'areaname':'metro_name'}, inplace=True) \n",
        "\n",
        "    #drop unused columns and reorder\n",
        "    df = df[['year', 'state_alpha', 'county_name', 'st_county', 'metro_name', 'studio', 'one_bed', 'two_bed', 'three_bed', 'four_bed']]\n",
        "    \n",
        "    #drop US territories from df\n",
        "    df = df.drop(df.index[df['state_alpha'].isin(['GU', 'MP', 'AS','PR','VI'])])\n",
        "    \n",
        "    #clean areaname values\n",
        "    df['metro_name'] = df['metro_name'].str.replace(' MSA','')\n",
        "    df['metro_name'] = df['metro_name'].str.replace(' HUD Metro FMR Area','')\n",
        "    df['metro_name'] = df['metro_name'].str.replace(r\"\\(.*\\)\",\"\")\n",
        "    df['metro_name'] = df['metro_name'].str.replace('--','-')\n",
        "    df['metro_name'] = df['metro_name'].str.strip()\n",
        "    \n",
        "    #drop duplicates\n",
        "    df = df.drop_duplicates(keep='first')    \n",
        "    \n",
        "    return df\n",
        "\n",
        "fmr_17 = process_fmr(fmr_17)\n",
        "fmr_18 = process_fmr(fmr_18)\n",
        "fmr_19 = process_fmr(fmr_19)\n",
        "fmr_20 = process_fmr(fmr_20)\n",
        "fmr_21 = process_fmr(fmr_21)\n",
        "\n",
        "#combine processed dataframes\n",
        "\n",
        "fmr_2017_2021 = pd.concat([fmr_17,fmr_18,fmr_19,fmr_20,fmr_21]) "
      ]
    },
    {
      "cell_type": "code",
      "execution_count": null,
      "id": "3b1f9be5-25d4-4970-8f26-a58942e55cba",
      "metadata": {
        "id": "3b1f9be5-25d4-4970-8f26-a58942e55cba"
      },
      "outputs": [],
      "source": [
        "fmr_2017_2021"
      ]
    },
    {
      "cell_type": "code",
      "execution_count": null,
      "id": "569118ad-937c-4da2-95e4-a869cf2916ac",
      "metadata": {
        "id": "569118ad-937c-4da2-95e4-a869cf2916ac"
      },
      "outputs": [],
      "source": [
        "# check for duplicate rows\n",
        "\n",
        "duplicated_fmr = fmr_2017_2021[fmr_2017_2021.duplicated()]\n",
        "duplicated_fmr"
      ]
    },
    {
      "cell_type": "markdown",
      "id": "bfc876a5-8c76-4879-81b0-2c888d2864b8",
      "metadata": {
        "id": "bfc876a5-8c76-4879-81b0-2c888d2864b8"
      },
      "source": [
        "Our new merged data set contains ~6k rows and 10 columns, with no duplicate rows. Now, to make analysis and plotting easier, we will reshape the data to a long format. "
      ]
    },
    {
      "cell_type": "code",
      "execution_count": null,
      "id": "ee3dee0d-a075-4878-a8ba-29f9245878e2",
      "metadata": {
        "id": "ee3dee0d-a075-4878-a8ba-29f9245878e2"
      },
      "outputs": [],
      "source": [
        "# use df.melt to convert from wide format to long format\n",
        "\n",
        "fmr_data = (fmr_2017_2021.melt(id_vars=['state_alpha','county_name','st_county','metro_name','year'], \n",
        "                               var_name='type',\n",
        "                               value_name='fmr')\n",
        "                               .reset_index(drop=True))\n",
        "\n",
        "fmr_data"
      ]
    },
    {
      "cell_type": "code",
      "execution_count": null,
      "id": "8f951960-e65c-4980-9f80-2f13f950b568",
      "metadata": {
        "id": "8f951960-e65c-4980-9f80-2f13f950b568"
      },
      "outputs": [],
      "source": [
        "fmr_data.isna().sum()"
      ]
    },
    {
      "cell_type": "code",
      "execution_count": null,
      "id": "4c920fb1-fb33-46ae-8f15-58ed2d3d60fb",
      "metadata": {
        "id": "4c920fb1-fb33-46ae-8f15-58ed2d3d60fb"
      },
      "outputs": [],
      "source": [
        "fmr_data.dtypes"
      ]
    },
    {
      "cell_type": "code",
      "execution_count": null,
      "id": "81b85255-5906-459e-bd6b-284d1bf8a75b",
      "metadata": {
        "id": "81b85255-5906-459e-bd6b-284d1bf8a75b"
      },
      "outputs": [],
      "source": [
        "# check for duplicate rows\n",
        "\n",
        "duplicated_fmr = fmr_data[fmr_data.duplicated()]\n",
        "duplicated_fmr"
      ]
    },
    {
      "cell_type": "code",
      "execution_count": null,
      "id": "63b1e917-37c0-4071-bb60-fc7349114709",
      "metadata": {
        "id": "63b1e917-37c0-4071-bb60-fc7349114709"
      },
      "outputs": [],
      "source": [
        "fmr_data.info()"
      ]
    },
    {
      "cell_type": "markdown",
      "id": "28c38dff-e778-4d53-8748-fa517537c6fa",
      "metadata": {
        "id": "28c38dff-e778-4d53-8748-fa517537c6fa"
      },
      "source": [
        "The long format of our data has ~30k rows and 7 columns. No duplicate rows or null values are present."
      ]
    },
    {
      "cell_type": "code",
      "execution_count": null,
      "id": "534cea77-bbd7-49c2-b967-165a9afc3f9c",
      "metadata": {
        "id": "534cea77-bbd7-49c2-b967-165a9afc3f9c"
      },
      "outputs": [],
      "source": [
        "# export cleaned data set as csv\n",
        "\n",
        "fmr_data.to_csv('FMR Data/FWT_FMR_Long.csv',index=False)\n",
        "fmr_2017_2021.to_csv('FMR Data/FWT_FMR_Wide.csv',index=False)"
      ]
    },
    {
      "cell_type": "markdown",
      "id": "361a8d19-9d45-4cfb-8a7b-19b6a3ac98be",
      "metadata": {
        "id": "361a8d19-9d45-4cfb-8a7b-19b6a3ac98be"
      },
      "source": [
        "### Exploratory Data Analysis"
      ]
    },
    {
      "cell_type": "markdown",
      "id": "66c8a4c2-2d4c-4b60-852e-cab85fcf6f6e",
      "metadata": {
        "id": "66c8a4c2-2d4c-4b60-852e-cab85fcf6f6e"
      },
      "source": [
        "We'll start our EDA by exploring the data at the state level by grouping the data by the state_alpha, housing type, and year and calculating the median FMR."
      ]
    },
    {
      "cell_type": "code",
      "execution_count": null,
      "id": "da881686-d93c-49ac-a15a-dbf8cdbd6a36",
      "metadata": {
        "id": "da881686-d93c-49ac-a15a-dbf8cdbd6a36"
      },
      "outputs": [],
      "source": [
        "# Calculate median fair market rents for all housing types:\n",
        "\n",
        "median_fmr = fmr_data.groupby(['state_alpha','year','type'])\\\n",
        "             .agg({'fmr':'median'})\\\n",
        "             .reset_index()\n",
        "    \n",
        "median_fmr"
      ]
    },
    {
      "cell_type": "markdown",
      "id": "415d044d-fbb8-480e-9514-2ddca6d0c926",
      "metadata": {
        "id": "415d044d-fbb8-480e-9514-2ddca6d0c926"
      },
      "source": [
        "Next, we'll plot a distribution of median FMRs by housing types:"
      ]
    },
    {
      "cell_type": "code",
      "execution_count": null,
      "id": "c772fed3-188e-412e-aa4f-51cbce630828",
      "metadata": {
        "id": "c772fed3-188e-412e-aa4f-51cbce630828"
      },
      "outputs": [],
      "source": [
        "fig = px.histogram(median_fmr, \n",
        "                   x='fmr',\n",
        "                   facet_col='type', \n",
        "                   category_orders={'type': ['studio', 'one_bed', 'two_bed', 'three_bed','four_bed']},\n",
        "                   animation_frame='year', \n",
        "                   title=\"Distribution of Fair Market Rents by Housing Type (all States)\",\n",
        "                   height=600)\n",
        "\n",
        "fig.show()"
      ]
    },
    {
      "cell_type": "markdown",
      "id": "3812bbce-be4f-4370-b6cd-4b5ee0ef7fe0",
      "metadata": {
        "id": "3812bbce-be4f-4370-b6cd-4b5ee0ef7fe0"
      },
      "source": [
        "Next, we'll plot a box plot for the median FMR for all housing types by State:"
      ]
    },
    {
      "cell_type": "code",
      "execution_count": null,
      "id": "0f576bb7-c3c0-47ee-a331-19aa2b325d78",
      "metadata": {
        "id": "0f576bb7-c3c0-47ee-a331-19aa2b325d78"
      },
      "outputs": [],
      "source": [
        "fig = px.box(median_fmr, \n",
        "             x='state_alpha',\n",
        "             y='fmr',\n",
        "             animation_frame='year',\n",
        "             title=\"Fair Market Rents by State (all housing types)\", \n",
        "             height=600)\n",
        "\n",
        "fig.show()"
      ]
    },
    {
      "cell_type": "markdown",
      "id": "1df41be1-3cd1-452f-bac1-609e9bca8373",
      "metadata": {
        "id": "1df41be1-3cd1-452f-bac1-609e9bca8373"
      },
      "source": [
        "The box plot shows DC, Hawaii, Colorado, California, Vermont, and New Jersey to be among the states with the highest median fair market rents. These states also appear to have skewed data and a greater inquartile range. Now let's create a line plot to show how the FMR changed from 2017 to 2021 for each residence type. We can use Plotly to plot all the entire dataframe and filter on the states of interest. "
      ]
    },
    {
      "cell_type": "code",
      "execution_count": null,
      "id": "2ab4d8bc-c130-4de6-a50b-e21911720775",
      "metadata": {
        "id": "2ab4d8bc-c130-4de6-a50b-e21911720775"
      },
      "outputs": [],
      "source": [
        "fig = px.line(median_fmr, \n",
        "              x='year',\n",
        "              y='fmr',\n",
        "              color='state_alpha',\n",
        "              facet_col='type',\n",
        "              category_orders={'type': ['studio', 'one_bed', 'two_bed', 'three_bed','four_bed']},\n",
        "              title=\"Monthly Fair Market Rent by Year and Housing Type\",\n",
        "              markers=True, \n",
        "              height=600)\n",
        "\n",
        "fig.update_layout(dict(updatemenus=[\n",
        "                        dict(\n",
        "                            type = \"buttons\",\n",
        "                            direction = \"left\",\n",
        "                            buttons=list([\n",
        "                                dict(\n",
        "                                    args=[\"visible\", \"legendonly\"],\n",
        "                                    label=\"Deselect All\",\n",
        "                                    method=\"restyle\"\n",
        "                                ),\n",
        "                                dict(\n",
        "                                    args=[\"visible\", True],\n",
        "                                    label=\"Select All\",\n",
        "                                    method=\"restyle\"\n",
        "                                )\n",
        "                            ]),\n",
        "                            pad={\"r\": 10, \"t\": 10},\n",
        "                            showactive=False,\n",
        "                            x=1,\n",
        "                            xanchor=\"right\",\n",
        "                            y=1.1,\n",
        "                            yanchor=\"bottom\"\n",
        "                        ),\n",
        "                    ]\n",
        "              ))\n",
        "fig.show()"
      ]
    },
    {
      "cell_type": "code",
      "execution_count": null,
      "id": "f92bc309-4723-45b4-a383-1adaf3df0a0f",
      "metadata": {
        "id": "f92bc309-4723-45b4-a383-1adaf3df0a0f"
      },
      "outputs": [],
      "source": [
        "# Calculate 2017 to 2021 percent change by state:\n",
        "\n",
        "# 1 - unpivot data useing melt function \n",
        "pct_chg_st = fmr_2017_2021\\\n",
        "            .melt(id_vars=['state_alpha','year','county_name','st_county','metro_name'],\n",
        "                  var_name='type',\n",
        "                  value_name='fmr')\n",
        "\n",
        "# 2 - calculate median FMR for all housing types by state and year\n",
        "pct_chg_st = pct_chg_st\\\n",
        "            .groupby(['state_alpha','year'])\\\n",
        "            .agg('median')\\\n",
        "            .reset_index()\n",
        "\n",
        "# 3 - change the year column to a datatime data type\n",
        "pct_chg_st['year'] = pd.to_datetime(pct_chg_st['year'])\\\n",
        "                    .dt.year\n",
        "\n",
        "# 4 - calculate percentage change over four periods (2017 to 2021)\n",
        "pct_chg_st['pct_change'] = pct_chg_st\\\n",
        "                           .groupby('state_alpha',sort=False)['fmr']\\\n",
        "                           .pct_change(periods=4).mul(100)\n",
        "\n",
        "# 5 - drop null values and sort by percentage change\n",
        "pct_chg_st = pct_chg_st[['state_alpha','pct_change']]\\\n",
        "            .dropna()\\\n",
        "            .sort_values(by='pct_change',ascending=False)"
      ]
    },
    {
      "cell_type": "code",
      "execution_count": null,
      "id": "dbac3a79-5f0a-429c-943f-465ecdb6a43b",
      "metadata": {
        "id": "dbac3a79-5f0a-429c-943f-465ecdb6a43b"
      },
      "outputs": [],
      "source": [
        "# plot bar chart\n",
        "\n",
        "fig = px.bar(pct_chg_st, x='state_alpha',y='pct_change', text_auto='.3s', \n",
        "                   labels={\n",
        "                     \"pct_change\": \"Percent Change\",\n",
        "                     \"state_alpha\": \"State\",\n",
        "                 },\n",
        "             title=\"Fair Market Rent Percent Change: 2017 to 2021 (all housing types)\", height=600)\n",
        "\n",
        "fig.show()"
      ]
    },
    {
      "cell_type": "code",
      "execution_count": null,
      "id": "c2b5f6be-058d-416f-b2b6-cbb9de2f2fdb",
      "metadata": {
        "id": "c2b5f6be-058d-416f-b2b6-cbb9de2f2fdb"
      },
      "outputs": [],
      "source": [
        "# Calculate top 20 metros with the highest median rents (all unit types):\n",
        "\n",
        "# 1 - calculate median FMR by metro area and year\n",
        "fmr_metros = fmr_data\\\n",
        "            .groupby(['metro_name','year'])\\\n",
        "            .agg({'fmr':'median'})\\\n",
        "            .reset_index()\n",
        "\n",
        "# 2 - sort values by year and FMR value\n",
        "fmr_metros = fmr_metros\\\n",
        "            .sort_values(by=['year','fmr'],\n",
        "            ascending=[True, False])\n",
        "\n",
        "# 3 - group by year and show the first 20 records\n",
        "fmr_metros = fmr_metros\\\n",
        "            .groupby('year')\\\n",
        "            .head(20)"
      ]
    },
    {
      "cell_type": "code",
      "execution_count": null,
      "id": "cd6277a2-2061-4284-a146-ff553f4dc616",
      "metadata": {
        "id": "cd6277a2-2061-4284-a146-ff553f4dc616"
      },
      "outputs": [],
      "source": [
        "# plot bar chart\n",
        "\n",
        "fig = px.bar(fmr_metros, \n",
        "             x='metro_name',\n",
        "             y='fmr',\n",
        "             text_auto='.2s',\n",
        "             animation_frame='year',\n",
        "             labels={\n",
        "                     \"fmr\": \"Fair Market Rent\",\n",
        "                     \"metro_name\": \"Metro\"\n",
        "             },\n",
        "             title=\"Top 20 Metros w/ the Highest Median Fair Market Rents (all residence types)\",\n",
        "             height=700)\n",
        "\n",
        "fig.show()"
      ]
    },
    {
      "cell_type": "code",
      "execution_count": null,
      "id": "fab5ddc9-532b-4b0f-9f91-7a53f96f9825",
      "metadata": {
        "id": "fab5ddc9-532b-4b0f-9f91-7a53f96f9825"
      },
      "outputs": [],
      "source": [
        "# Calculate top 20 metro areas w/the highest 2017 to 2021 FMR percentage change:\n",
        "\n",
        "# 1 - unpivot data using melt function\n",
        "pct_chg_mt = fmr_2017_2021\\\n",
        "             .melt(id_vars=['state_alpha','year','county_name','st_county','metro_name'],\n",
        "             var_name='type',\n",
        "             value_name='fmr')\n",
        "\n",
        "# 2 - calcuate median FMR by metro and year\n",
        "pct_chg_mt = pct_chg_mt\\\n",
        "            .groupby(['metro_name','year'])\\\n",
        "            .agg('median')\\\n",
        "            .reset_index()\n",
        "# 3 - calculate percentage change over four periods (2017 to 2021)\n",
        "pct_chg_mt['pct_change'] = pct_chg_mt\\\n",
        "                          .groupby('metro_name',sort=False)['fmr']\\\n",
        "                          .pct_change(periods=4)\\\n",
        "                          .mul(100)\n",
        "\n",
        "# 4 - drop unused columns, null values, and sort by percentage change in descending order\n",
        "pct_chg_mt = pct_chg_mt[['metro_name','pct_change']]\\\n",
        "            .dropna()\\\n",
        "            .sort_values(by='pct_change',ascending=False)\n",
        "\n",
        "# 5 - limit to first 20 rows\n",
        "pct_chg_mt = pct_chg_mt.head(20)"
      ]
    },
    {
      "cell_type": "code",
      "execution_count": null,
      "id": "0f060f5b-4576-4235-8634-57d5c5468361",
      "metadata": {
        "id": "0f060f5b-4576-4235-8634-57d5c5468361"
      },
      "outputs": [],
      "source": [
        "# plot bar chart\n",
        "\n",
        "fig = px.bar(pct_chg_mt,\n",
        "             x='metro_name',\n",
        "             y='pct_change',\n",
        "             text_auto='.3s',\n",
        "             labels={\n",
        "                     \"pct_change\": \"Percentage Change\",\n",
        "                     \"metro_name\": \"Metro\"\n",
        "             },\n",
        "             title=\"Top 20 Metros w/ Highest Fair Market Rent Percent Change: 2017 to 2021 (all housing types)\",\n",
        "             height=600)\n",
        "\n",
        "fig.show()"
      ]
    },
    {
      "cell_type": "markdown",
      "id": "574737a2-7a3b-4b65-a903-b87f5263a81a",
      "metadata": {
        "id": "574737a2-7a3b-4b65-a903-b87f5263a81a"
      },
      "source": [
        "### Insights"
      ]
    },
    {
      "cell_type": "markdown",
      "id": "a61a8ab5-9460-4fa8-aabb-67d1e83484b3",
      "metadata": {
        "id": "a61a8ab5-9460-4fa8-aabb-67d1e83484b3"
      },
      "source": [
        "**1. Which states have the highest FMRs?**\n",
        "\n",
        "***DC, Hawaii, Colorado, New Jersey, California, and Vermont*** consistently had the highest FMRs across housing types from 2017 to 2021.\n",
        "\n",
        "**2. Which metro areas have the highest FMRs?**\n",
        "\n",
        "2017:\n",
        "1. San Francisco, CA ($3.0K)\n",
        "\n",
        "2. San Jose-Sunnyvale-Santa Clara, CA ($2.2K)\n",
        "\n",
        "3. Oakland-Fremont, CA ($2.2K)\n",
        "\n",
        "4. Urban Honolulu, HI ($2.0K)\n",
        "\n",
        "5. Stamford-Norwalk, CT ($2.0K)\n",
        "\n",
        "2018:\n",
        "1. San Francisco, CA ($3.1K)\n",
        "\n",
        "2. San Jose-Sunnyvale-Santa Clara, CA ($2.5K)\n",
        "\n",
        "3. Oakland-Fremont, CA ($2.3K)\n",
        "\n",
        "4. Urban Honolulu, HI ($2.0K)\n",
        "\n",
        "5. Stamford-Norwalk, CT ($2.0K)\n",
        "\n",
        "2019:\n",
        "1. San Francisco, CA ($3.2K)\n",
        "\n",
        "2. San Jose-Sunnyvale-Santa Clara, CA ($2.8K)\n",
        "\n",
        "3. Santa Cruz-Watsonville, CA ($2.4K)\n",
        "\n",
        "4. Boston-Cambridge-Quincy, MA-NH ($2.2K)\n",
        "\n",
        "5. Oakland-Fremont, CA ($2.1K)\n",
        "\n",
        "2020:\n",
        "1. San Francisco, CA ($3.3K)\n",
        "\n",
        "2. San Jose-Sunnyvale-Santa Clara, CA ($3.0K)\n",
        "\n",
        "3. Santa Cruz-Watsonville, CA ($2.5K)\n",
        "\n",
        "4. Santa Maria-Santa Barbara, CA ($2.3K)\n",
        "\n",
        "5.  Boston-Cambridge-Quincy, MA-NH ($2.3K)\n",
        "\n",
        "2021:\n",
        "1. San Francisco, CA ($3.6K)\n",
        "\n",
        "2. San Jose-Sunnyvale-Santa Clara, CA ($3.1K)\n",
        "\n",
        "3. Santa Cruz-Watsonville, CA ($3.0K)\n",
        "\n",
        "4. Oakland-Fremont, CA ($2.4K)\n",
        "\n",
        "5. Santa Maria-Santa Barbara, CA ($2.4K)\n",
        "\n",
        "**3. What is the percentage increase in FMRs from 2017 to 2021 (all residence types)?**\n",
        "\n",
        "At the State level, Hawaii (+32.9%), Maine (+29.2%), Nevada (+28.3%), Oregon (+26.4%), and California (+26.1%) had the top five percentage increase in Fair Market Rental prices from 2017 to 2021.\n",
        "\n",
        "At the metro area level, Santa Cruz-Watsonville, CA (+65.3%), Santa Maria-Santa Barbara, CA (+52.7%), Bend-Redmond, OR (+48.0%), Sacramento-Roseville-Arden-Arcade, CA (+44.3%), and Walla Walla County, WA (+44.0%) had the top five percentage increase in Fair Market Rental prices from 2017 to 2021."
      ]
    },
    {
      "cell_type": "markdown",
      "id": "3ceaba7c-5a88-418b-b767-5c066e26b843",
      "metadata": {
        "id": "3ceaba7c-5a88-418b-b767-5c066e26b843"
      },
      "source": [
        "### Next Steps"
      ]
    },
    {
      "cell_type": "markdown",
      "id": "9fd0918e-36b1-43cc-afd2-375cf4d716e2",
      "metadata": {
        "id": "9fd0918e-36b1-43cc-afd2-375cf4d716e2"
      },
      "source": [
        "In the next part of our analysis, we will take a look at the median wages by State and metro area."
      ]
    }
  ],
  "metadata": {
    "kernelspec": {
      "display_name": "Python 3 (ipykernel)",
      "language": "python",
      "name": "python3"
    },
    "language_info": {
      "codemirror_mode": {
        "name": "ipython",
        "version": 3
      },
      "file_extension": ".py",
      "mimetype": "text/x-python",
      "name": "python",
      "nbconvert_exporter": "python",
      "pygments_lexer": "ipython3",
      "version": "3.9.13"
    },
    "colab": {
      "provenance": []
    }
  },
  "nbformat": 4,
  "nbformat_minor": 5
}